{
 "cells": [
  {
   "cell_type": "code",
   "execution_count": 62,
   "metadata": {},
   "outputs": [
    {
     "ename": "FileNotFoundError",
     "evalue": "[Errno 2] No such file or directory: './/schema/schema.json'",
     "output_type": "error",
     "traceback": [
      "\u001b[0;31m---------------------------------------------------------------------------\u001b[0m",
      "\u001b[0;31mFileNotFoundError\u001b[0m                         Traceback (most recent call last)",
      "\u001b[0;32m/var/folders/2s/ws4y87_951bbjb7gltg2bs_c0000gn/T/ipykernel_3570/3794974513.py\u001b[0m in \u001b[0;36m<module>\u001b[0;34m\u001b[0m\n\u001b[1;32m     50\u001b[0m \u001b[0mjson1\u001b[0m\u001b[0;34m.\u001b[0m\u001b[0mload_file\u001b[0m\u001b[0;34m(\u001b[0m\u001b[0;34m)\u001b[0m\u001b[0;34m\u001b[0m\u001b[0;34m\u001b[0m\u001b[0m\n\u001b[1;32m     51\u001b[0m \u001b[0mjson1\u001b[0m\u001b[0;34m.\u001b[0m\u001b[0msniff_schema\u001b[0m\u001b[0;34m(\u001b[0m\u001b[0;34m)\u001b[0m\u001b[0;34m\u001b[0m\u001b[0;34m\u001b[0m\u001b[0m\n\u001b[0;32m---> 52\u001b[0;31m \u001b[0mjson1\u001b[0m\u001b[0;34m.\u001b[0m\u001b[0msave_to_folder\u001b[0m\u001b[0;34m(\u001b[0m\u001b[0;34m)\u001b[0m\u001b[0;34m\u001b[0m\u001b[0;34m\u001b[0m\u001b[0m\n\u001b[0m",
      "\u001b[0;32m/var/folders/2s/ws4y87_951bbjb7gltg2bs_c0000gn/T/ipykernel_3570/3794974513.py\u001b[0m in \u001b[0;36msave_to_folder\u001b[0;34m(self)\u001b[0m\n\u001b[1;32m     43\u001b[0m         \u001b[0mdict_object\u001b[0m \u001b[0;34m=\u001b[0m \u001b[0mself\u001b[0m\u001b[0;34m.\u001b[0m\u001b[0msniff_schema\u001b[0m\u001b[0;34m(\u001b[0m\u001b[0;34m)\u001b[0m\u001b[0;34m\u001b[0m\u001b[0;34m\u001b[0m\u001b[0m\n\u001b[1;32m     44\u001b[0m         \u001b[0mrandom_values\u001b[0m \u001b[0;34m=\u001b[0m \u001b[0mstr\u001b[0m\u001b[0;34m(\u001b[0m\u001b[0mrandom\u001b[0m\u001b[0;34m.\u001b[0m\u001b[0mrandint\u001b[0m\u001b[0;34m(\u001b[0m\u001b[0;36m0\u001b[0m\u001b[0;34m,\u001b[0m\u001b[0;36m5\u001b[0m\u001b[0;34m)\u001b[0m\u001b[0;34m)\u001b[0m\u001b[0;34m\u001b[0m\u001b[0;34m\u001b[0m\u001b[0m\n\u001b[0;32m---> 45\u001b[0;31m         \u001b[0;32mwith\u001b[0m \u001b[0mopen\u001b[0m\u001b[0;34m(\u001b[0m\u001b[0;34mf'.//schema/schema.json'\u001b[0m\u001b[0;34m,\u001b[0m \u001b[0;34m'w'\u001b[0m\u001b[0;34m)\u001b[0m \u001b[0;32mas\u001b[0m \u001b[0mschema_data\u001b[0m\u001b[0;34m:\u001b[0m\u001b[0;34m\u001b[0m\u001b[0;34m\u001b[0m\u001b[0m\n\u001b[0m\u001b[1;32m     46\u001b[0m             \u001b[0mjson\u001b[0m\u001b[0;34m.\u001b[0m\u001b[0mdump\u001b[0m\u001b[0;34m(\u001b[0m\u001b[0mdict_object\u001b[0m\u001b[0;34m,\u001b[0m \u001b[0mschema_data\u001b[0m\u001b[0;34m,\u001b[0m \u001b[0mindent\u001b[0m\u001b[0;34m=\u001b[0m\u001b[0;36m4\u001b[0m\u001b[0;34m)\u001b[0m\u001b[0;34m\u001b[0m\u001b[0;34m\u001b[0m\u001b[0m\n\u001b[1;32m     47\u001b[0m \u001b[0;34m\u001b[0m\u001b[0m\n",
      "\u001b[0;31mFileNotFoundError\u001b[0m: [Errno 2] No such file or directory: './/schema/schema.json'"
     ]
    }
   ],
   "source": [
    "import json\n",
    "import random\n",
    "import os\n",
    "\n",
    "class JsonOps:\n",
    "    def __init__(self, json_file):\n",
    "        self.json_file = json_file\n",
    "\n",
    "    def load_file(self):\n",
    "        with open(self.json_file) as file:\n",
    "            data = json.load(file)\n",
    "        return data\n",
    "\n",
    "    def sniff_schema(self):\n",
    "        data = self.load_file()\n",
    "        file1 = []\n",
    "        for i in data:\n",
    "            file1.append(data[i])\n",
    "\n",
    "\n",
    "        main_dict = file1[1]\n",
    "        main_keys = list(main_dict.keys())\n",
    "        main_vals = list(main_dict.values())\n",
    "        val_types = [type(i) for i in main_dict.values()]\n",
    "\n",
    "        forward = {}\n",
    "        for i in range(len(val_types)):\n",
    "            if val_types[i] == bool:\n",
    "                forward.update({main_keys[i]: {'type': 'boolean', 'tag': '', 'description': '', 'required': False}})\n",
    "            elif val_types[i] == str:\n",
    "                forward.update({main_keys[i]: {'type': 'string', 'tag': '', 'description': '', 'required': False}})\n",
    "            elif val_types[i] == int:\n",
    "                forward.update({main_keys[i]: {'type': 'int', 'tag': '', 'description': '', 'required': False}})\n",
    "            elif val_types == list:\n",
    "                forward.update({main_keys[i]: {'type': 'enum', 'tag': '', 'description': '', 'required': False}})\n",
    "            elif val_types[i] == dict:\n",
    "                forward.update({main_keys[i]: {'type': 'array', 'tag': '', 'description': '', 'required': False,}})\n",
    "            else:\n",
    "                forward.update({main_keys[i]: {'type': val_types[i]}, 'tag': '', 'description': '', 'required': False,})\n",
    "\n",
    "        return forward\n",
    "\n",
    "    def save_to_folder(self):\n",
    "        dict_object = self.sniff_schema()\n",
    "        random_values = str(random.randint(0,5))\n",
    "        with open(os.path.join(name, season+'.json'), 'w') as json_file\n",
    "        with open(f'.//schema/schema.json', 'w') as schema_data:\n",
    "            json.dump(dict_object, schema_data, indent=4)\n",
    "\n",
    "\n",
    "json1 = JsonOps('data_2.json')\n",
    "json1.load_file()\n",
    "json1.sniff_schema()\n",
    "json1.save_to_folder()\n"
   ]
  },
  {
   "cell_type": "code",
   "execution_count": null,
   "metadata": {},
   "outputs": [],
   "source": [
    "\n"
   ]
  }
 ],
 "metadata": {
  "interpreter": {
   "hash": "c3584f8c5bf6d99a645b8b6c691cea601abd8cab9f1db122af2e2ace4d76eaaa"
  },
  "kernelspec": {
   "display_name": "Python 3.9.7 ('base')",
   "language": "python",
   "name": "python3"
  },
  "language_info": {
   "codemirror_mode": {
    "name": "ipython",
    "version": 3
   },
   "file_extension": ".py",
   "mimetype": "text/x-python",
   "name": "python",
   "nbconvert_exporter": "python",
   "pygments_lexer": "ipython3",
   "version": "3.9.7"
  },
  "orig_nbformat": 4
 },
 "nbformat": 4,
 "nbformat_minor": 2
}
