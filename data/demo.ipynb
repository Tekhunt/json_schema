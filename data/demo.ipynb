{
 "cells": [
  {
   "cell_type": "code",
   "execution_count": 14,
   "metadata": {},
   "outputs": [
    {
     "data": {
      "text/plain": [
       "[{'battle': {'type': 'string',\n",
       "   'tag': '',\n",
       "   'description': '',\n",
       "   'required': False}},\n",
       " {'joiner': {'type': 'string',\n",
       "   'tag': '',\n",
       "   'description': '',\n",
       "   'required': False}},\n",
       " {'participantIds': {'type': 'string',\n",
       "   'tag': '',\n",
       "   'description': '',\n",
       "   'required': False}}]"
      ]
     },
     "execution_count": 14,
     "metadata": {},
     "output_type": "execute_result"
    }
   ],
   "source": [
    "import json\n",
    "\n",
    "\n",
    "with open(\"data_1.json\") as file:\n",
    "    data = json.load(file)\n",
    "\n",
    "\n",
    "file1 = []\n",
    "for i in data:\n",
    "    file1.append(data[i])\n",
    "\n",
    "type(file1[1])\n",
    "\n",
    "main_dict = file1[1]\n",
    "main_dict.keys()\n",
    "main_dict.values()\n",
    "main_dict['battle']\n",
    "main_dict['joiner']\n",
    "vals = {'type': 'string', 'tag': '', 'description': '', 'required': False, 'data': main_dict['joiner']}\n",
    "list_of_arrays = []\n",
    "for k, v in main_dict.items():\n",
    "    list_of_arrays.append({k:{'type': 'string', 'tag': '', 'description': '', 'required': False, 'data': v}})\n",
    "\n",
    "\n",
    "\n",
    "len(list_of_arrays)\n",
    "\n",
    "main_dict\n",
    "\n",
    "s = []\n",
    "for k, v in main_dict.items():\n",
    "    s.append({k: {'type': \"string\", \"tag\": \"\", \"description\": \"\",\"required\": False}})\n",
    "\n",
    "\n",
    "\n",
    "s\n",
    "\n"
   ]
  },
  {
   "cell_type": "code",
   "execution_count": 6,
   "metadata": {},
   "outputs": [],
   "source": [
    "import ruamel.yaml\n",
    "import pkgutil\n",
    "# import jsonschema_gentypes.validate\n",
    "\n",
    "schema_data = pkgutil.get_data(\"jsonschema_gentypes\", \"schema.json\")\n",
    "with open('data_1.json') as data_file:\n",
    "    yaml = ruamel.yaml.YAML()  # type: ignore\n",
    "    data = yaml.load(data_file)\n",
    "\n",
    "\n"
   ]
  },
  {
   "cell_type": "code",
   "execution_count": 84,
   "metadata": {},
   "outputs": [
    {
     "data": {
      "text/plain": [
       "'greet'"
      ]
     },
     "execution_count": 84,
     "metadata": {},
     "output_type": "execute_result"
    }
   ],
   "source": [
    "myd = {'hi': 'greet', 3: 'three', 2: 'two'}\n",
    "myd.get('hi')"
   ]
  },
  {
   "cell_type": "code",
   "execution_count": 2,
   "metadata": {},
   "outputs": [
    {
     "data": {
      "text/plain": [
       "'hi'"
      ]
     },
     "execution_count": 2,
     "metadata": {},
     "output_type": "execute_result"
    }
   ],
   "source": [
    "dict1 = {1: 'hi', 2: 'hello'}\n",
    "dict1[1]"
   ]
  },
  {
   "cell_type": "code",
   "execution_count": null,
   "metadata": {},
   "outputs": [],
   "source": []
  }
 ],
 "metadata": {
  "interpreter": {
   "hash": "c3584f8c5bf6d99a645b8b6c691cea601abd8cab9f1db122af2e2ace4d76eaaa"
  },
  "kernelspec": {
   "display_name": "Python 3.9.7 ('base')",
   "language": "python",
   "name": "python3"
  },
  "language_info": {
   "codemirror_mode": {
    "name": "ipython",
    "version": 3
   },
   "file_extension": ".py",
   "mimetype": "text/x-python",
   "name": "python",
   "nbconvert_exporter": "python",
   "pygments_lexer": "ipython3",
   "version": "3.9.7"
  },
  "orig_nbformat": 4
 },
 "nbformat": 4,
 "nbformat_minor": 2
}
